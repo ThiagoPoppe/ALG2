{
 "cells": [
  {
   "cell_type": "code",
   "execution_count": 1,
   "metadata": {},
   "outputs": [],
   "source": [
    "import numpy as np\n",
    "import networkx as nx\n",
    "\n",
    "import matplotlib.pyplot as plt"
   ]
  },
  {
   "cell_type": "code",
   "execution_count": 23,
   "metadata": {},
   "outputs": [],
   "source": [
    "def generate_points(lower=0, upper=100, size=4):\n",
    "    \"\"\"\n",
    "        Função que gera pontos com coordenadas inteiras em R²\n",
    "        \n",
    "        Parâmetros:\n",
    "        ----------\n",
    "        lower : int (opcional)\n",
    "            O menor valor que pode ser gerado pelo gerador (por padrão é 0)\n",
    "            \n",
    "        upper : int (opcional)\n",
    "            O maior valor que pode ser gerado pelo gerador (por padrão é 10)\n",
    "            \n",
    "        size : int (opcional)\n",
    "            Número de pontos a serem gerados. Iremos gerar 2^size pontos, onde size\n",
    "            deve ser um valor no intervalo [4, 10] (por padrão é 4)\n",
    "            \n",
    "        Retorno:\n",
    "        -------\n",
    "        Caso o valor de size seja inviável, a função retornará None. Senão, retornará uma\n",
    "        lista de pontos com coordenadas inteiras em R²\n",
    "            \n",
    "    \"\"\"\n",
    "    \n",
    "    # Verificando se o parâmetro size é viável\n",
    "    if size < 4 or size > 10:\n",
    "        print('*** O parâmetro size deve ter valor entre [4, 10] ***')\n",
    "        return None\n",
    "    \n",
    "    # Gerando 2**size pontos inteiros\n",
    "    points = []\n",
    "    for i in range(size):\n",
    "        p = np.random.randint(lower, upper, 2)\n",
    "        points.append(p)\n",
    "        \n",
    "    return points"
   ]
  },
  {
   "cell_type": "code",
   "execution_count": 28,
   "metadata": {},
   "outputs": [],
   "source": [
    "def get_euclidian_distance(points):\n",
    "    \"\"\"\n",
    "        Função que calcula a distância euclidiana entre todos os pontos\n",
    "        \n",
    "        Parâmetros:\n",
    "        ----------\n",
    "        points : list of numpy.ndarray\n",
    "            Lista contendo os pontos no plano R²\n",
    "            \n",
    "        Retorno:\n",
    "        -------\n",
    "        A função retorna uma lista de tuplas, onde o primeiro e segundo elementos são\n",
    "        os vértices e o terceiro a distância calculada entre os mesmos usando a distância\n",
    "        euclidiana\n",
    "    \"\"\"\n",
    "    \n",
    "    edges = []\n",
    "    for i in range(len(points)):\n",
    "        for j in range(i+1, len(points)):\n",
    "            dist = np.linalg.norm(points[i] - points[j])\n",
    "            edges.append((i, j, dist))\n",
    "            \n",
    "    return edges"
   ]
  },
  {
   "cell_type": "code",
   "execution_count": 29,
   "metadata": {},
   "outputs": [],
   "source": [
    "def get_manhattan_distance(points):\n",
    "    edges = []\n",
    "    for i in range(len(points)):\n",
    "        for j in range(i+1, len(points)):\n",
    "            dist = np.sum(np.abs(points[i] - points[j]))\n",
    "            edges.append((i, j, dist))\n",
    "            \n",
    "    return edges"
   ]
  },
  {
   "cell_type": "code",
   "execution_count": 9,
   "metadata": {
    "scrolled": true
   },
   "outputs": [
    {
     "data": {
      "image/png": "[encoded data removed]",
      "text/plain": [
       "<Figure size 432x288 with 1 Axes>"
      ]
     },
     "metadata": {},
     "output_type": "display_data"
    }
   ],
   "source": [
    "G.add_weighted_edges_from([(1, 2, 3), (2, 1, 4), (5, 1, 2), (3, 5, 1), (5, 4, 10), (4, 3, 0.2)])\n",
    "\n",
    "nx.draw(G, with_labels=True)\n",
    "plt.show()"
   ]
  },
  {
   "cell_type": "code",
   "execution_count": 10,
   "metadata": {
    "scrolled": true
   },
   "outputs": [
    {
     "data": {
      "image/png": "[encoded data removed]",
      "text/plain": [
       "<Figure size 432x288 with 1 Axes>"
      ]
     },
     "metadata": {},
     "output_type": "display_data"
    }
   ],
   "source": [
    "MST = nx.minimum_spanning_tree(G)\n",
    "nx.draw(MST, with_labels=True)\n",
    "plt.show()"
   ]
  }
 ],
 "metadata": {
  "kernelspec": {
   "display_name": "Python 3",
   "language": "python",
   "name": "python3"
  },
  "language_info": {
   "codemirror_mode": {
    "name": "ipython",
    "version": 3
   },
   "file_extension": ".py",
   "mimetype": "text/x-python",
   "name": "python",
   "nbconvert_exporter": "python",
   "pygments_lexer": "ipython3",
   "version": "3.7.4"
  }
 },
 "nbformat": 4,
 "nbformat_minor": 2
}
