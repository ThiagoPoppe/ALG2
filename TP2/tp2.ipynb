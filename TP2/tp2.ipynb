{
 "cells": [
  {
   "cell_type": "markdown",
   "metadata": {},
   "source": [
    "# Trabalho Prático 02\n",
    "\n",
    "- __Aluno__: Thiago Martin Poppe\n",
    "- __Matrícula__: 2017014324"
   ]
  },
  {
   "cell_type": "code",
   "execution_count": 1,
   "metadata": {},
   "outputs": [],
   "source": [
    "import numpy as np\n",
    "import networkx as nx\n",
    "\n",
    "import matplotlib.pyplot as plt"
   ]
  },
  {
   "cell_type": "code",
   "execution_count": 2,
   "metadata": {},
   "outputs": [],
   "source": [
    "def generate_points(lower=0, upper=100, size=4):\n",
    "    \"\"\"\n",
    "        Função que gera pontos com coordenadas inteiras em R²\n",
    "        \n",
    "        Parâmetros:\n",
    "        ----------\n",
    "        lower : int (opcional)\n",
    "            O menor valor que pode ser gerado pelo gerador (por padrão é 0)\n",
    "            \n",
    "        upper : int (opcional)\n",
    "            O maior valor que pode ser gerado pelo gerador (por padrão é 10)\n",
    "            \n",
    "        size : int (opcional)\n",
    "            Número de pontos a serem gerados. Iremos gerar 2^size pontos, onde size\n",
    "            deve ser um valor no intervalo [4, 10] (por padrão é 4)\n",
    "            \n",
    "        Retorno:\n",
    "        -------\n",
    "        Caso o valor de size seja inviável, a função retornará None. Senão, retornará uma\n",
    "        lista de pontos com coordenadas inteiras em R²\n",
    "            \n",
    "    \"\"\"\n",
    "    \n",
    "    # Verificando se o parâmetro size é viável\n",
    "    if size < 4 or size > 10:\n",
    "        print('*** O parâmetro size deve ter valor entre [4, 10] ***')\n",
    "        return None\n",
    "    \n",
    "    # Gerando 2**size pontos inteiros\n",
    "    points = []\n",
    "    for i in range(2**size):\n",
    "        p = np.random.randint(lower, upper, 2)\n",
    "        points.append(p)\n",
    "        \n",
    "    return points"
   ]
  },
  {
   "cell_type": "code",
   "execution_count": 3,
   "metadata": {},
   "outputs": [],
   "source": [
    "def get_euclidian_distance(points):\n",
    "    \"\"\"\n",
    "        Função que calcula a distância euclidiana entre todos os pontos\n",
    "        \n",
    "        Parâmetros:\n",
    "        ----------\n",
    "        points : list of numpy.ndarray\n",
    "            Lista contendo os pontos no plano R²\n",
    "            \n",
    "        Retorno:\n",
    "        -------\n",
    "        A função retorna uma lista de tuplas, onde o primeiro e segundo elementos são\n",
    "        os vértices e o terceiro a distância calculada entre os mesmos usando a distância\n",
    "        euclidiana\n",
    "    \"\"\"\n",
    "    \n",
    "    edges = []\n",
    "    for i in range(len(points)):\n",
    "        for j in range(i+1, len(points)):\n",
    "            dist = np.linalg.norm(points[i] - points[j])\n",
    "            edges.append((i, j, dist))\n",
    "            \n",
    "    return edges"
   ]
  },
  {
   "cell_type": "code",
   "execution_count": 4,
   "metadata": {},
   "outputs": [],
   "source": [
    "def get_manhattan_distance(points):\n",
    "    \"\"\"\n",
    "        Função que calcula a distância manhattan entre todos os pontos\n",
    "        \n",
    "        Parâmetros:\n",
    "        ----------\n",
    "        points : list of numpy.ndarray\n",
    "            Lista contendo os pontos no plano R²\n",
    "            \n",
    "        Retorno:\n",
    "        -------\n",
    "        A função retorna uma lista de tuplas, onde o primeiro e segundo elementos são\n",
    "        os vértices e o terceiro a distância calculada entre os mesmos usando a distância\n",
    "        manhattan\n",
    "    \"\"\"\n",
    "    \n",
    "    edges = []\n",
    "    for i in range(len(points)):\n",
    "        for j in range(i+1, len(points)):\n",
    "            dist = np.abs(points[i] - points[j]).sum()\n",
    "            edges.append((i, j, dist))\n",
    "            \n",
    "    return edges"
   ]
  },
  {
   "cell_type": "code",
   "execution_count": 5,
   "metadata": {},
   "outputs": [],
   "source": [
    "def twice_around_the_tree(graph):\n",
    "    \"\"\"\n",
    "        Função que implementa o algoritmo 2-aproximativo para o problema do TSP\n",
    "        \n",
    "        Parâmetros:\n",
    "        ----------\n",
    "        graph : grafo\n",
    "            Grafo de entrada para o nosso problema\n",
    "            \n",
    "        Retorno:\n",
    "        -------\n",
    "        A função retorna a ordem dos vértices do caminho aproximado e o seu tamanho\n",
    "    \"\"\"\n",
    "    \n",
    "    # Encontrando a árvore geradora mínima do grafo\n",
    "    MST = nx.minimum_spanning_tree(G)\n",
    "    \n",
    "    # Caminhando em pré-ordem pela árvore usando o vértice 0 como raiz e fechando o ciclo\n",
    "    # Hamiltoniano, conectando o vértice final ao inicial\n",
    "    walk = list(nx.dfs_preorder_nodes(MST, source=0))\n",
    "    walk.append(0)\n",
    "\n",
    "    # Computando o tamanho do caminho encontrado\n",
    "    length = 0\n",
    "    for i in range(len(walk)-1):\n",
    "        u, v = walk[i], walk[i+1]\n",
    "        length += G[u][v]['weight']\n",
    "    \n",
    "    return walk, length    "
   ]
  },
  {
   "cell_type": "code",
   "execution_count": 6,
   "metadata": {},
   "outputs": [],
   "source": [
    "def christofides(graph):\n",
    "    \"\"\"\n",
    "        Função que implementa o algoritmo 1.5-aproximativo para o problema do TSP\n",
    "        \n",
    "        Parâmetros:\n",
    "        ----------\n",
    "        graph : grafo\n",
    "            Grafo de entrada para o nosso problema\n",
    "            \n",
    "        Retorno:\n",
    "        -------\n",
    "        A função retorna a ordem dos vértices do caminho aproximado e o seu tamanho\n",
    "    \n",
    "    \"\"\"\n",
    "    \n",
    "    # Copiando o grafo para não modificarmos o original\n",
    "    G = graph.copy()\n",
    "    \n",
    "    # Encontrando a árvore geradora mínima do grafo\n",
    "    MST = nx.minimum_spanning_tree(G)\n",
    "    \n",
    "    # Criando o conjunto de vértices que possuem grau ímpar e montando um subgrafo induzido a partir dos mesmos\n",
    "    odd_degree_nodes = []\n",
    "    for node in MST.nodes():\n",
    "        if MST.degree(node) % 2 == 1:\n",
    "            odd_degree_nodes.append(node)\n",
    "    \n",
    "    induced_graph = G.subgraph(odd_degree_nodes)\n",
    "    \n",
    "    # Multiplicando por -1 os pesos do grafo induzido\n",
    "    for (u, v) in induced_graph.edges():\n",
    "        induced_graph[u][v]['weight'] **= -1\n",
    "        \n",
    "    # Encontrando o matching perfeito de peso mínimo e voltando os pesos para o original\n",
    "    min_weight_matching = nx.max_weight_matching(induced_graph, maxcardinality=True)\n",
    "    \n",
    "    # Retornando as arestas para o valor original\n",
    "    for (u, v) in induced_graph.edges():\n",
    "        induced_graph[u][v]['weight'] **= -1\n",
    "    \n",
    "    # Criando um subgrafo induzido com as arestas de matching de peso mínimo\n",
    "    min_weight_matching_graph = G.edge_subgraph(min_weight_matching)\n",
    "        \n",
    "    # Criando um multigrafo com os vértices de G e arestas da MST e do matching perfeito de peso mínimo\n",
    "    multigraph = nx.MultiGraph()\n",
    "    multigraph.add_weighted_edges_from(MST.edges.data('weight'))\n",
    "    multigraph.add_weighted_edges_from(min_weight_matching_graph.edges.data('weight'))\n",
    "    \n",
    "    # Computando o circuito euleriano\n",
    "    eulerian_circuit = [u for (u, v) in nx.eulerian_circuit(multigraph, source=0)]\n",
    "    \n",
    "    # Retirando vértices repetidos, construindo assim um circuito hamiltoniano\n",
    "    walk = []\n",
    "    for node in eulerian_circuit:\n",
    "        if node not in walk:\n",
    "            walk.append(node)\n",
    "    \n",
    "    walk.append(0)\n",
    "    \n",
    "    # Computando o tamanho do caminho encontrado\n",
    "    length = 0\n",
    "    for i in range(len(walk)-1):\n",
    "        u, v = walk[i], walk[i+1]\n",
    "        length += G[u][v]['weight']\n",
    "        \n",
    "    return walk, length"
   ]
  },
  {
   "cell_type": "code",
   "execution_count": 7,
   "metadata": {},
   "outputs": [],
   "source": [
    "# Exemplo tirado do site: https://www.brainkart.com/article/Approximation-Algorithms-for-the-Traveling-Salesman-Problem_8065/\n",
    "edges = [\n",
    "    (0, 1, 4),\n",
    "    (0, 2, 8),\n",
    "    (0, 3, 9),\n",
    "    (0, 4, 12),\n",
    "    \n",
    "    (1, 2, 6),\n",
    "    (1, 3, 8),\n",
    "    (1, 4, 9),\n",
    "    \n",
    "    (2, 3, 10),\n",
    "    (2, 4, 11),\n",
    "    \n",
    "    (3, 4, 7)\n",
    "]\n",
    "\n",
    "G = nx.Graph()\n",
    "G.add_weighted_edges_from(edges)"
   ]
  },
  {
   "cell_type": "code",
   "execution_count": 8,
   "metadata": {},
   "outputs": [
    {
     "data": {
      "text/plain": [
       "([0, 1, 3, 4, 2, 0], 38.0)"
      ]
     },
     "execution_count": 8,
     "metadata": {},
     "output_type": "execute_result"
    }
   ],
   "source": [
    "christofides(G)"
   ]
  },
  {
   "cell_type": "code",
   "execution_count": 9,
   "metadata": {},
   "outputs": [
    {
     "data": {
      "text/plain": [
       "([0, 1, 2, 3, 4, 0], 39)"
      ]
     },
     "execution_count": 9,
     "metadata": {},
     "output_type": "execute_result"
    }
   ],
   "source": [
    "twice_around_the_tree(G)"
   ]
  },
  {
   "cell_type": "code",
   "execution_count": 10,
   "metadata": {},
   "outputs": [],
   "source": [
    "# Exemplo tirado do Wikipédia: https://en.wikipedia.org/wiki/Christofides_algorithm\n",
    "edges = [\n",
    "    (0, 1, 1),\n",
    "    (0, 2, 1),\n",
    "    (0, 3, 2),\n",
    "    (0, 4, 1),\n",
    "    \n",
    "    (1, 2, 2),\n",
    "    (1, 3, 1),\n",
    "    (1, 4, 1),\n",
    "    \n",
    "    (2, 3, 1),\n",
    "    (2, 4, 1),\n",
    "    \n",
    "    (3, 4, 1)\n",
    "]\n",
    "\n",
    "G = nx.Graph()\n",
    "G.add_weighted_edges_from(edges)"
   ]
  },
  {
   "cell_type": "code",
   "execution_count": 11,
   "metadata": {},
   "outputs": [
    {
     "data": {
      "text/plain": [
       "([0, 4, 2, 3, 1, 0], 5.0)"
      ]
     },
     "execution_count": 11,
     "metadata": {},
     "output_type": "execute_result"
    }
   ],
   "source": [
    "christofides(G)"
   ]
  },
  {
   "cell_type": "code",
   "execution_count": 12,
   "metadata": {},
   "outputs": [
    {
     "data": {
      "text/plain": [
       "([0, 1, 3, 2, 4, 0], 5)"
      ]
     },
     "execution_count": 12,
     "metadata": {},
     "output_type": "execute_result"
    }
   ],
   "source": [
    "twice_around_the_tree(G)"
   ]
  }
 ],
 "metadata": {
  "kernelspec": {
   "display_name": "Python 3",
   "language": "python",
   "name": "python3"
  },
  "language_info": {
   "codemirror_mode": {
    "name": "ipython",
    "version": 3
   },
   "file_extension": ".py",
   "mimetype": "text/x-python",
   "name": "python",
   "nbconvert_exporter": "python",
   "pygments_lexer": "ipython3",
   "version": "3.7.3"
  }
 },
 "nbformat": 4,
 "nbformat_minor": 2
}
