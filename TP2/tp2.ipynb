{
 "cells": [
  {
   "cell_type": "markdown",
   "metadata": {},
   "outputs": [],
   "source": [
    "# Trabalho Prático 02\n",
    "\n",
    "- __Aluno__: Thiago Martin Poppe\n",
    "- __Matrícula__: 2017014324"
   ]
  },
  {
   "cell_type": "code",
   "execution_count": 1,
   "metadata": {},
   "outputs": [],
   "source": [
    "import numpy as np\n",
    "import networkx as nx\n",
    "import matplotlib.pyplot as plt\n",
    "\n",
    "from math import ceil\n",
    "from queue import PriorityQueue"
   ]
  },
  {
   "cell_type": "code",
   "execution_count": 2,
   "metadata": {},
   "outputs": [],
   "source": [
    "def generate_points(lower=0, upper=100, size=4):\n",
    "    \"\"\"\n",
    "        Função que gera pontos com coordenadas inteiras em R²\n",
    "        \n",
    "        Parâmetros:\n",
    "        ----------\n",
    "        lower : int (opcional)\n",
    "            O menor valor que pode ser gerado pelo gerador (por padrão é 0)\n",
    "            \n",
    "        upper : int (opcional)\n",
    "            O maior valor que pode ser gerado pelo gerador (por padrão é 10)\n",
    "            \n",
    "        size : int (opcional)\n",
    "            Número de pontos a serem gerados. Iremos gerar 2^size pontos, onde size\n",
    "            deve ser um valor no intervalo [4, 10] (por padrão é 4)\n",
    "            \n",
    "        Retorno:\n",
    "        -------\n",
    "        Caso o valor de size seja inviável, a função retornará None. Senão, retornará uma\n",
    "        lista de pontos com coordenadas inteiras em R²   \n",
    "    \"\"\"\n",
    "    \n",
    "    # Verificando se o parâmetro size é viável\n",
    "    if size < 4 or size > 10:\n",
    "        print('*** O parâmetro size deve ter valor entre [4, 10] ***')\n",
    "        return None\n",
    "    \n",
    "    # Gerando 2**size pontos inteiros\n",
    "    points = []\n",
    "    for i in range(2**size):\n",
    "        p = np.random.randint(lower, upper, 2)\n",
    "        points.append(p)\n",
    "        \n",
    "    return points"
   ]
  },
  {
   "cell_type": "code",
   "execution_count": 3,
   "metadata": {},
   "outputs": [],
   "source": [
    "def get_euclidian_distance(points):\n",
    "    \"\"\"\n",
    "        Função que calcula a distância euclidiana entre todos os pontos\n",
    "        \n",
    "        Parâmetros:\n",
    "        ----------\n",
    "        points : list of numpy.ndarray\n",
    "            Lista contendo os pontos no plano R²\n",
    "            \n",
    "        Retorno:\n",
    "        -------\n",
    "        A função retorna uma lista de tuplas, onde o primeiro e segundo elementos são\n",
    "        os vértices e o terceiro a distância calculada entre os mesmos usando a distância\n",
    "        euclidiana\n",
    "    \"\"\"\n",
    "    \n",
    "    edges = []\n",
    "    for i in range(len(points)):\n",
    "        for j in range(i+1, len(points)):\n",
    "            dist = np.linalg.norm(points[i] - points[j])\n",
    "            edges.append((i, j, dist))\n",
    "            \n",
    "    return edges"
   ]
  },
  {
   "cell_type": "code",
   "execution_count": 4,
   "metadata": {},
   "outputs": [],
   "source": [
    "def get_manhattan_distance(points):\n",
    "    \"\"\"\n",
    "        Função que calcula a distância manhattan entre todos os pontos\n",
    "        \n",
    "        Parâmetros:\n",
    "        ----------\n",
    "        points : list of numpy.ndarray\n",
    "            Lista contendo os pontos no plano R²\n",
    "            \n",
    "        Retorno:\n",
    "        -------\n",
    "        A função retorna uma lista de tuplas, onde o primeiro e segundo elementos são\n",
    "        os vértices e o terceiro a distância calculada entre os mesmos usando a distância\n",
    "        manhattan\n",
    "    \"\"\"\n",
    "    \n",
    "    edges = []\n",
    "    for i in range(len(points)):\n",
    "        for j in range(i+1, len(points)):\n",
    "            dist = np.abs(points[i] - points[j]).sum()\n",
    "            edges.append((i, j, dist))\n",
    "            \n",
    "    return edges"
   ]
  },
  {
   "cell_type": "code",
   "execution_count": 5,
   "metadata": {},
   "outputs": [],
   "source": [
    "def bound(G, nodes):\n",
    "    \"\"\"\n",
    "        Função para computar o bound para o algoritmo Branch and Bound\n",
    "        \n",
    "        Parâmetros:\n",
    "        ----------\n",
    "        G : grafo\n",
    "            Grafo de entrada para o problema\n",
    "            \n",
    "        edges : list of tuple\n",
    "            Lista de arestas que devem ter na nossa solução atual\n",
    "            \n",
    "        Retorno:\n",
    "        -------\n",
    "            Retorna o valor de bound para um nó na árvore do Branch and Bound  \n",
    "    \"\"\"\n",
    "    \n",
    "    # Convertendo a lista de vértices em listas de arestas\n",
    "    edges = [(nodes[i], nodes[i+1]) for i in range(len(nodes)-1)]\n",
    "    \n",
    "    # Computando os pesos que devem ter na solução atual\n",
    "    estimative = 0\n",
    "    for (u, v) in edges:\n",
    "        estimative += (2 * G[u][v]['weight'])\n",
    "    \n",
    "    for u in G.nodes():          \n",
    "        # Encontrando as arestas que devem existir incidentes à 'u' \n",
    "        u_edges = list(filter(lambda x: x[0] == u or x[1] == u, edges))\n",
    "        \n",
    "        # Se tivermos 2 arestas podemos continuar para o próximo vértice\n",
    "        if len(u_edges) < 2:\n",
    "            # Computando os dois menores pesos das arestas que incidem àquele vértice\n",
    "            u_data = list(G.edges(u, data=True))\n",
    "            u_data = sorted(u_data, key=lambda x: x[2]['weight'])\n",
    "            w1, w2 = u_data[0][2]['weight'], u_data[1][2]['weight']\n",
    "            \n",
    "            # Caso não tenhamos nenhuma aresta necessária, podemos somar os dois pesos\n",
    "            if len(u_edges) == 0:\n",
    "                estimative += w1\n",
    "                estimative += w2\n",
    "            \n",
    "            # Senão somamos um dos dois pesos (não somando o mesmo peso da aresta duas vezes)\n",
    "            elif len(u_edges) == 1:\n",
    "                u, v = u_edges[0]\n",
    "                must_have_weight = G[u][v]['weight']\n",
    "                estimative += w1 if w1 < must_have_weight else w2\n",
    "    \n",
    "    return ceil(estimative / 2)"
   ]
  },
  {
   "cell_type": "code",
   "execution_count": 6,
   "metadata": {},
   "outputs": [],
   "source": [
    "class Node:\n",
    "    \"\"\"\n",
    "        Classe para representar um nó na árvore do Branch and Bound\n",
    "    \"\"\"\n",
    "    \n",
    "    def __init__(self, bound, level, cost, sol):\n",
    "        self.bound = bound\n",
    "        self.level = level\n",
    "        self.cost = cost\n",
    "        self.sol = sol\n",
    "    \n",
    "    # Comparação entre Nodes\n",
    "    def __lt__(self, other):\n",
    "        return self.bound < other.bound\n",
    "    \n",
    "    # Apenas para fins de debug\n",
    "    def __str__(self):\n",
    "        return 'bound: {}, level: {}, cost: {}, sol: {}'.format(self.bound, self.level, self.cost, self.sol)\n",
    "\n",
    "def branch_and_bound(graph):\n",
    "    \"\"\" \n",
    "        Função que implementa o algoritmo Branch and Bound para o problema do TSP\n",
    "\n",
    "        Parâmetros:\n",
    "        ----------\n",
    "        graph : grafo\n",
    "            Grafo de entrada para o problema\n",
    "\n",
    "        Retorno:\n",
    "        -------\n",
    "        A função retorna a ordem dos vértices do melhor caminho e o seu tamanho\n",
    "    \"\"\"\n",
    "\n",
    "    # Copiando o grafo para evitar possíveis modificações não desejadas\n",
    "    G = graph.copy()\n",
    "\n",
    "    # Criando o primeiro nó da árvore do Branch and Bound\n",
    "    root = Node(bound(G, []), 1, 0, [0])\n",
    "    heap = PriorityQueue()\n",
    "    heap.put(root)\n",
    "    \n",
    "    # Definindo o melhor como infinito e a solução como vazia\n",
    "    best = np.inf\n",
    "    solution = []\n",
    "    \n",
    "    # Percorrendo o min-heap\n",
    "    while not heap.empty():\n",
    "        node = heap.get()\n",
    "\n",
    "        # Caso cheguemos em uma folha, iremos verificar se a mesma é\n",
    "        # melhor do que uma solução que já achamos\n",
    "        if node.level == G.number_of_nodes():\n",
    "            if node.cost < best:\n",
    "                best = node.cost\n",
    "                solution = node.sol\n",
    "\n",
    "        elif node.bound < best:\n",
    "            if node.level < G.number_of_nodes():\n",
    "                for k in range(G.number_of_nodes()):\n",
    "                    v = node.sol[-1]\n",
    "                    # Aprofundando o Node se 'k' não estiver na solução, peso finito e bound (com 'k') melhor que o best\n",
    "                    if k not in node.sol and G[v][k]['weight'] != np.inf and bound(G, node.sol + [k]) < best:\n",
    "                        new_sol = node.sol + [k]\n",
    "                        new_cost = node.cost + G[v][k]['weight']\n",
    "                        new_bound = bound(G, new_sol)\n",
    "                        heap.put(Node(new_bound, node.level+1, new_cost, new_sol))\n",
    "                        \n",
    "    # Adicionando o vértice inicial para fechar o circuito\n",
    "    solution.append(0)\n",
    "    \n",
    "    # Computando o tamanho do caminho encontrado\n",
    "    length = 0\n",
    "    for i in range(len(solution)-1):\n",
    "        u, v = solution[i], solution[i+1]\n",
    "        length += G[u][v]['weight']\n",
    "        \n",
    "    return solution, length"
   ]
  },
  {
   "cell_type": "code",
   "execution_count": 7,
   "metadata": {},
   "outputs": [],
   "source": [
    "def twice_around_the_tree(graph):\n",
    "    \"\"\"\n",
    "        Função que implementa o algoritmo 2-aproximativo para o problema do TSP\n",
    "        \n",
    "        Parâmetros:\n",
    "        ----------\n",
    "        graph : grafo\n",
    "            Grafo de entrada para o problema\n",
    "            \n",
    "        Retorno:\n",
    "        -------\n",
    "        A função retorna a ordem dos vértices do caminho aproximado e o seu tamanho\n",
    "    \"\"\"\n",
    "\n",
    "    # Copiando o grafo para evitar possíveis modificações não desejadas\n",
    "    G = graph.copy()\n",
    "    \n",
    "    # Encontrando a árvore geradora mínima do grafo\n",
    "    MST = nx.minimum_spanning_tree(G)\n",
    "    \n",
    "    # Caminhando em pré-ordem pela árvore usando o vértice 0 como raiz e fechando o ciclo\n",
    "    # Hamiltoniano, conectando o vértice final ao inicial\n",
    "    walk = list(nx.dfs_preorder_nodes(MST, source=0))\n",
    "    walk.append(0)\n",
    "\n",
    "    # Computando o tamanho do caminho encontrado\n",
    "    length = 0\n",
    "    for i in range(len(walk)-1):\n",
    "        u, v = walk[i], walk[i+1]\n",
    "        length += G[u][v]['weight']\n",
    "    \n",
    "    return walk, length    "
   ]
  },
  {
   "cell_type": "code",
   "execution_count": 8,
   "metadata": {},
   "outputs": [],
   "source": [
    "def christofides(graph):\n",
    "    \"\"\"\n",
    "        Função que implementa o algoritmo 1.5-aproximativo para o problema do TSP\n",
    "        \n",
    "        Parâmetros:\n",
    "        ----------\n",
    "        graph : grafo\n",
    "            Grafo de entrada para o problema\n",
    "            \n",
    "        Retorno:\n",
    "        -------\n",
    "        A função retorna a ordem dos vértices do caminho aproximado e o seu tamanho\n",
    "    \"\"\"\n",
    "    \n",
    "    # Copiando o grafo para evitar possíveis modificações não desejadas\n",
    "    G = graph.copy()\n",
    "\n",
    "    # Encontrando a árvore geradora mínima do grafo\n",
    "    MST = nx.minimum_spanning_tree(G)\n",
    "    \n",
    "    # Criando o conjunto de vértices que possuem grau ímpar e montando um subgrafo induzido a partir dos mesmos\n",
    "    odd_degree_nodes = []\n",
    "    for node in MST.nodes():\n",
    "        if MST.degree(node) % 2 == 1:\n",
    "            odd_degree_nodes.append(node)\n",
    "    \n",
    "    induced_graph = G.subgraph(odd_degree_nodes)\n",
    "    \n",
    "    # Processando as arestas do grafo para achar o matching perfeito de peso mínimo\n",
    "    \n",
    "    u, v = list(induced_graph.edges())[0]\n",
    "    max_weight = induced_graph[u][v]['weight']\n",
    "    for (u, v) in induced_graph.edges():\n",
    "        w = induced_graph[u][v]['weight']\n",
    "        max_weight = w if w > max_weight else max_weight\n",
    "        \n",
    "    for (u, v) in induced_graph.edges():\n",
    "        induced_graph[u][v]['weight'] = max_weight - induced_graph[u][v]['weight']\n",
    "        \n",
    "    # Encontrando o matching perfeito de peso mínimo e voltando os pesos para o original\n",
    "    min_weight_matching = nx.max_weight_matching(induced_graph, maxcardinality=True)\n",
    "    \n",
    "    # Criando um subgrafo induzido com as arestas do matching perfeito de peso mínimo\n",
    "    min_weight_matching_graph = G.edge_subgraph(min_weight_matching)\n",
    "        \n",
    "    # Criando um multigrafo com os vértices de G e arestas da MST e do matching perfeito de peso mínimo\n",
    "    multigraph = nx.MultiGraph()\n",
    "    multigraph.add_weighted_edges_from(MST.edges.data('weight'))\n",
    "    multigraph.add_weighted_edges_from(min_weight_matching_graph.edges.data('weight'))\n",
    "    \n",
    "    # Computando o circuito euleriano\n",
    "    eulerian_circuit = [u for (u, v) in nx.eulerian_circuit(multigraph, source=0)]\n",
    "    \n",
    "    # Retirando vértices repetidos, construindo assim um circuito hamiltoniano\n",
    "    walk = []\n",
    "    for node in eulerian_circuit:\n",
    "        if node not in walk:\n",
    "            walk.append(node)\n",
    "    \n",
    "    walk.append(0)\n",
    "    \n",
    "    # Computando o tamanho do caminho encontrado\n",
    "    length = 0\n",
    "    for i in range(len(walk)-1):\n",
    "        u, v = walk[i], walk[i+1]\n",
    "        length += graph[u][v]['weight']\n",
    "        \n",
    "    return walk, length"
   ]
  },
  {
   "cell_type": "code",
   "execution_count": 9,
   "metadata": {},
   "outputs": [],
   "source": [
    "# Exemplo tirado do site: https://www.brainkart.com/article/Approximation-Algorithms-for-the-Traveling-Salesman-Problem_8065/\n",
    "edges = [\n",
    "    (0, 1, 4),\n",
    "    (0, 2, 8),\n",
    "    (0, 3, 9),\n",
    "    (0, 4, 12),\n",
    "    \n",
    "    (1, 2, 6),\n",
    "    (1, 3, 8),\n",
    "    (1, 4, 9),\n",
    "    \n",
    "    (2, 3, 10),\n",
    "    (2, 4, 11),\n",
    "    \n",
    "    (3, 4, 7)\n",
    "]\n",
    "\n",
    "G = nx.Graph()\n",
    "G.add_weighted_edges_from(edges)"
   ]
  },
  {
   "cell_type": "code",
   "execution_count": 10,
   "metadata": {},
   "outputs": [
    {
     "name": "stdout",
     "output_type": "stream",
     "text": "Wall time: 0 ns\n"
    },
    {
     "data": {
      "text/plain": "([0, 1, 3, 4, 2, 0], 38)"
     },
     "execution_count": 10,
     "metadata": {},
     "output_type": "execute_result"
    }
   ],
   "source": [
    "%time\n",
    "christofides(G)"
   ]
  },
  {
   "cell_type": "code",
   "execution_count": 11,
   "metadata": {},
   "outputs": [
    {
     "name": "stdout",
     "output_type": "stream",
     "text": "Wall time: 0 ns\n"
    },
    {
     "data": {
      "text/plain": "([0, 1, 2, 3, 4, 0], 39)"
     },
     "execution_count": 11,
     "metadata": {},
     "output_type": "execute_result"
    }
   ],
   "source": [
    "%time\n",
    "twice_around_the_tree(G)"
   ]
  },
  {
   "cell_type": "code",
   "execution_count": 12,
   "metadata": {},
   "outputs": [
    {
     "name": "stdout",
     "output_type": "stream",
     "text": "Wall time: 0 ns\n"
    },
    {
     "data": {
      "text/plain": "([0, 1, 2, 4, 3, 0], 37)"
     },
     "execution_count": 12,
     "metadata": {},
     "output_type": "execute_result"
    }
   ],
   "source": [
    "%time\n",
    "branch_and_bound(G)"
   ]
  },
  {
   "cell_type": "code",
   "execution_count": 13,
   "metadata": {},
   "outputs": [],
   "source": [
    "# Exemplo tirado do Wikipédia: https://en.wikipedia.org/wiki/Christofides_algorithm\n",
    "edges = [\n",
    "    (0, 1, 1),\n",
    "    (0, 2, 1),\n",
    "    (0, 3, 2),\n",
    "    (0, 4, 1),\n",
    "    \n",
    "    (1, 2, 2),\n",
    "    (1, 3, 1),\n",
    "    (1, 4, 1),\n",
    "    \n",
    "    (2, 3, 1),\n",
    "    (2, 4, 1),\n",
    "    \n",
    "    (3, 4, 1)\n",
    "]\n",
    "\n",
    "G = nx.Graph()\n",
    "G.add_weighted_edges_from(edges)"
   ]
  },
  {
   "cell_type": "code",
   "execution_count": 14,
   "metadata": {},
   "outputs": [
    {
     "name": "stdout",
     "output_type": "stream",
     "text": "Wall time: 0 ns\n"
    },
    {
     "data": {
      "text/plain": "([0, 4, 2, 3, 1, 0], 5)"
     },
     "execution_count": 14,
     "metadata": {},
     "output_type": "execute_result"
    }
   ],
   "source": [
    "%time\n",
    "christofides(G)"
   ]
  },
  {
   "cell_type": "code",
   "execution_count": 15,
   "metadata": {},
   "outputs": [
    {
     "name": "stdout",
     "output_type": "stream",
     "text": "Wall time: 0 ns\n"
    },
    {
     "data": {
      "text/plain": "([0, 1, 3, 2, 4, 0], 5)"
     },
     "execution_count": 15,
     "metadata": {},
     "output_type": "execute_result"
    }
   ],
   "source": [
    "%time\n",
    "twice_around_the_tree(G)"
   ]
  },
  {
   "cell_type": "code",
   "execution_count": 16,
   "metadata": {},
   "outputs": [
    {
     "name": "stdout",
     "output_type": "stream",
     "text": "Wall time: 0 ns\n"
    },
    {
     "data": {
      "text/plain": "([0, 1, 3, 2, 4, 0], 5)"
     },
     "execution_count": 16,
     "metadata": {},
     "output_type": "execute_result"
    }
   ],
   "source": [
    "%time\n",
    "branch_and_bound(G)"
   ]
  },
  {
   "cell_type": "code",
   "execution_count": 17,
   "metadata": {},
   "outputs": [],
   "source": [
    "# Exemplo tirado do slide\n",
    "edges = [\n",
    "    (0, 1, 3),\n",
    "    (0, 2, 1),\n",
    "    (0, 3, 5),\n",
    "    (0, 4, 8),\n",
    "    \n",
    "    (1, 2, 6),\n",
    "    (1, 3, 7),\n",
    "    (1, 4, 9),\n",
    "    \n",
    "    (2, 3, 4),\n",
    "    (2, 4, 2),\n",
    "    \n",
    "    (3, 4, 3)\n",
    "]\n",
    "\n",
    "G = nx.Graph()\n",
    "G.add_weighted_edges_from(edges)"
   ]
  },
  {
   "cell_type": "code",
   "execution_count": 18,
   "metadata": {},
   "outputs": [
    {
     "name": "stdout",
     "output_type": "stream",
     "text": "Wall time: 0 ns\n"
    },
    {
     "data": {
      "text/plain": "([0, 1, 3, 4, 2, 0], 16)"
     },
     "execution_count": 18,
     "metadata": {},
     "output_type": "execute_result"
    }
   ],
   "source": [
    "%time\n",
    "christofides(G)"
   ]
  },
  {
   "cell_type": "code",
   "execution_count": 19,
   "metadata": {},
   "outputs": [
    {
     "name": "stdout",
     "output_type": "stream",
     "text": "Wall time: 0 ns\n"
    },
    {
     "data": {
      "text/plain": "([0, 2, 4, 3, 1, 0], 16)"
     },
     "execution_count": 19,
     "metadata": {},
     "output_type": "execute_result"
    }
   ],
   "source": [
    "%time\n",
    "twice_around_the_tree(G)"
   ]
  },
  {
   "cell_type": "code",
   "execution_count": 20,
   "metadata": {},
   "outputs": [
    {
     "name": "stdout",
     "output_type": "stream",
     "text": "Wall time: 0 ns\n"
    },
    {
     "data": {
      "text/plain": "([0, 2, 4, 3, 1, 0], 16)"
     },
     "execution_count": 20,
     "metadata": {},
     "output_type": "execute_result"
    }
   ],
   "source": [
    "%time\n",
    "branch_and_bound(G)"
   ]
  }
 ],
 "metadata": {
  "kernelspec": {
   "display_name": "Python 3",
   "language": "python",
   "name": "python3"
  },
  "language_info": {
   "codemirror_mode": {
    "name": "ipython",
    "version": 3
   },
   "file_extension": ".py",
   "mimetype": "text/x-python",
   "name": "python",
   "nbconvert_exporter": "python",
   "pygments_lexer": "ipython3",
   "version": "3.7.3"
  }
 },
 "nbformat": 4,
 "nbformat_minor": 2
}